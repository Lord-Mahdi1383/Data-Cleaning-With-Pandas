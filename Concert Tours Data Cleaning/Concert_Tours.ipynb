{
 "cells": [
  {
   "cell_type": "code",
   "execution_count": 2,
   "id": "e0764c0f",
   "metadata": {},
   "outputs": [],
   "source": [
    "import numpy as np\n",
    "import pandas as pd\n",
    "import jdatetime\n",
    "import matplotlib.pyplot as plt"
   ]
  },
  {
   "cell_type": "code",
   "execution_count": 5,
   "id": "8c44c9ea",
   "metadata": {},
   "outputs": [
    {
     "data": {
      "text/html": [
       "<div>\n",
       "<style scoped>\n",
       "    .dataframe tbody tr th:only-of-type {\n",
       "        vertical-align: middle;\n",
       "    }\n",
       "\n",
       "    .dataframe tbody tr th {\n",
       "        vertical-align: top;\n",
       "    }\n",
       "\n",
       "    .dataframe thead th {\n",
       "        text-align: right;\n",
       "    }\n",
       "</style>\n",
       "<table border=\"1\" class=\"dataframe\">\n",
       "  <thead>\n",
       "    <tr style=\"text-align: right;\">\n",
       "      <th></th>\n",
       "      <th>Rank</th>\n",
       "      <th>Peak</th>\n",
       "      <th>All Time Peak</th>\n",
       "      <th>Actual gross</th>\n",
       "      <th>Adjusted gross (in 2022 dollars)</th>\n",
       "      <th>Artist</th>\n",
       "      <th>Tour title</th>\n",
       "      <th>Year(s)</th>\n",
       "      <th>Shows</th>\n",
       "      <th>Average gross</th>\n",
       "      <th>Ref.</th>\n",
       "    </tr>\n",
       "  </thead>\n",
       "  <tbody>\n",
       "    <tr>\n",
       "      <th>0</th>\n",
       "      <td>1</td>\n",
       "      <td>1.0</td>\n",
       "      <td>2.0</td>\n",
       "      <td>$780,000,000</td>\n",
       "      <td>$780,000,000</td>\n",
       "      <td>Taylor Swift</td>\n",
       "      <td>The Eras Tour †</td>\n",
       "      <td>2023–2024</td>\n",
       "      <td>56</td>\n",
       "      <td>$13,928,571</td>\n",
       "      <td>[1]</td>\n",
       "    </tr>\n",
       "    <tr>\n",
       "      <th>1</th>\n",
       "      <td>2</td>\n",
       "      <td>1.0</td>\n",
       "      <td>7.0</td>\n",
       "      <td>$579,800,000</td>\n",
       "      <td>$579,800,000</td>\n",
       "      <td>NaN</td>\n",
       "      <td>Renaissance World Tour</td>\n",
       "      <td>2023</td>\n",
       "      <td>56</td>\n",
       "      <td>$10,353,571</td>\n",
       "      <td>[3]</td>\n",
       "    </tr>\n",
       "    <tr>\n",
       "      <th>2</th>\n",
       "      <td>3</td>\n",
       "      <td>1.0</td>\n",
       "      <td>2.0</td>\n",
       "      <td>$411,000,000</td>\n",
       "      <td>$560,622,615</td>\n",
       "      <td>Madonna</td>\n",
       "      <td>Sticky &amp; Sweet Tour ‡[4][a]</td>\n",
       "      <td>2008–2009</td>\n",
       "      <td>85</td>\n",
       "      <td>$4,835,294</td>\n",
       "      <td>[6]</td>\n",
       "    </tr>\n",
       "    <tr>\n",
       "      <th>3</th>\n",
       "      <td>4</td>\n",
       "      <td>2.0</td>\n",
       "      <td>10.0</td>\n",
       "      <td>$397,300,000</td>\n",
       "      <td>$454,751,555</td>\n",
       "      <td>Pink</td>\n",
       "      <td>Beautiful Trauma World Tour</td>\n",
       "      <td>2018–2019</td>\n",
       "      <td>156</td>\n",
       "      <td>$2,546,795</td>\n",
       "      <td>[7]</td>\n",
       "    </tr>\n",
       "    <tr>\n",
       "      <th>4</th>\n",
       "      <td>5</td>\n",
       "      <td>2.0</td>\n",
       "      <td>NaN</td>\n",
       "      <td>$3,456,751,460</td>\n",
       "      <td>$402,844,849</td>\n",
       "      <td>Taylor Swift</td>\n",
       "      <td>Reputation Stadium Tour</td>\n",
       "      <td>2018</td>\n",
       "      <td>53</td>\n",
       "      <td>NaN</td>\n",
       "      <td>[8]</td>\n",
       "    </tr>\n",
       "  </tbody>\n",
       "</table>\n",
       "</div>"
      ],
      "text/plain": [
       "   Rank  Peak  All Time Peak    Actual gross Adjusted gross (in 2022 dollars)  \\\n",
       "0     1   1.0            2.0    $780,000,000                     $780,000,000   \n",
       "1     2   1.0            7.0    $579,800,000                     $579,800,000   \n",
       "2     3   1.0            2.0    $411,000,000                     $560,622,615   \n",
       "3     4   2.0           10.0    $397,300,000                     $454,751,555   \n",
       "4     5   2.0            NaN  $3,456,751,460                     $402,844,849   \n",
       "\n",
       "         Artist                   Tour title    Year(s)  Shows Average gross  \\\n",
       "0  Taylor Swift              The Eras Tour †  2023–2024     56   $13,928,571   \n",
       "1           NaN       Renaissance World Tour       2023     56   $10,353,571   \n",
       "2       Madonna  Sticky & Sweet Tour ‡[4][a]  2008–2009     85    $4,835,294   \n",
       "3          Pink  Beautiful Trauma World Tour  2018–2019    156    $2,546,795   \n",
       "4  Taylor Swift      Reputation Stadium Tour       2018     53           NaN   \n",
       "\n",
       "  Ref.  \n",
       "0  [1]  \n",
       "1  [3]  \n",
       "2  [6]  \n",
       "3  [7]  \n",
       "4  [8]  "
      ]
     },
     "execution_count": 5,
     "metadata": {},
     "output_type": "execute_result"
    }
   ],
   "source": [
    "uncleaned_data = \"Uncleaned_Concert_Tours.csv\"\n",
    "\n",
    "# load raw data from csv file\n",
    "df = pd.read_csv(uncleaned_data)\n",
    "\n",
    "# Display first 5 rows for initial inspection\n",
    "df.head(5)"
   ]
  },
  {
   "cell_type": "markdown",
   "id": "b1520be1",
   "metadata": {},
   "source": [
    "- filling numerical null values with 0 and categorical values with 'unknown'   \n",
    "- dropping ref column cuz its useless  \n",
    "- correcting column names (removing uselss symbols)    \n",
    "- Remove $ and commas, handle non-breaking spaces, convert to float ===> in money related columns  \n",
    "- extracting just the start year and making a new column for shamsi date   \n",
    "- removing out of range values in 'actual gross' column    \n",
    "\n",
    "**KEY QUESTIONS**   \n",
    "1- Which artist has the highest grossing tour while performing between 50-100 shows during 2015-2020?    \n",
    "2- Which tour title has the highest gross per show while maintaining above-average show counts?    "
   ]
  },
  {
   "cell_type": "code",
   "execution_count": null,
   "id": "58b6188d",
   "metadata": {},
   "outputs": [],
   "source": [
    "# dropping ref column\n",
    "# modifies the DataFrame directly without creating a new copy\n",
    "df.drop('Ref.', axis=1, inplace=True)"
   ]
  },
  {
   "cell_type": "code",
   "execution_count": null,
   "id": "dfa1e6ad",
   "metadata": {},
   "outputs": [
    {
     "name": "stdout",
     "output_type": "stream",
     "text": [
      "<class 'pandas.core.frame.DataFrame'>\n",
      "RangeIndex: 20 entries, 0 to 19\n",
      "Data columns (total 10 columns):\n",
      " #   Column                            Non-Null Count  Dtype  \n",
      "---  ------                            --------------  -----  \n",
      " 0   Rank                              20 non-null     int64  \n",
      " 1   Peak                              9 non-null      float64\n",
      " 2   All Time Peak                     6 non-null      float64\n",
      " 3   Actual gross                      20 non-null     object \n",
      " 4   Adjusted gross (in 2022 dollars)  20 non-null     object \n",
      " 5   Artist                            19 non-null     object \n",
      " 6   Tour title                        18 non-null     object \n",
      " 7   Year(s)                           20 non-null     object \n",
      " 8   Shows                             20 non-null     int64  \n",
      " 9   Average gross                     18 non-null     object \n",
      "dtypes: float64(2), int64(2), object(6)\n",
      "memory usage: 1.7+ KB\n"
     ]
    },
    {
     "data": {
      "text/plain": [
       "(20, 10)"
      ]
     },
     "execution_count": 62,
     "metadata": {},
     "output_type": "execute_result"
    }
   ],
   "source": [
    "# Show dataset metadata and dimensions\n",
    "# getting info about data types and sum of non null values...\n",
    "df.info()\n",
    "df.shape"
   ]
  },
  {
   "cell_type": "code",
   "execution_count": null,
   "id": "4840a1a3",
   "metadata": {},
   "outputs": [
    {
     "data": {
      "text/plain": [
       "Rank                                 0\n",
       "Peak                                11\n",
       "All Time Peak                       14\n",
       "Actual gross                         0\n",
       "Adjusted gross (in 2022 dollars)     0\n",
       "Artist                               1\n",
       "Tour title                           2\n",
       "Year(s)                              0\n",
       "Shows                                0\n",
       "Average gross                        2\n",
       "dtype: int64"
      ]
     },
     "execution_count": 63,
     "metadata": {},
     "output_type": "execute_result"
    }
   ],
   "source": [
    "# 11 null values for peak and 14 null values for all tiem peak\n",
    "# 1 null value for artists and 2 null values for tour title and average gross\n",
    "df.isnull().sum()"
   ]
  },
  {
   "cell_type": "code",
   "execution_count": null,
   "id": "02b6672c",
   "metadata": {},
   "outputs": [
    {
     "data": {
      "text/html": [
       "<div>\n",
       "<style scoped>\n",
       "    .dataframe tbody tr th:only-of-type {\n",
       "        vertical-align: middle;\n",
       "    }\n",
       "\n",
       "    .dataframe tbody tr th {\n",
       "        vertical-align: top;\n",
       "    }\n",
       "\n",
       "    .dataframe thead th {\n",
       "        text-align: right;\n",
       "    }\n",
       "</style>\n",
       "<table border=\"1\" class=\"dataframe\">\n",
       "  <thead>\n",
       "    <tr style=\"text-align: right;\">\n",
       "      <th></th>\n",
       "      <th>Rank</th>\n",
       "      <th>Peak</th>\n",
       "      <th>All Time Peak</th>\n",
       "      <th>Shows</th>\n",
       "    </tr>\n",
       "  </thead>\n",
       "  <tbody>\n",
       "    <tr>\n",
       "      <th>count</th>\n",
       "      <td>20.000000</td>\n",
       "      <td>9.000000</td>\n",
       "      <td>6.000000</td>\n",
       "      <td>20.000000</td>\n",
       "    </tr>\n",
       "    <tr>\n",
       "      <th>mean</th>\n",
       "      <td>10.450000</td>\n",
       "      <td>1.555556</td>\n",
       "      <td>7.500000</td>\n",
       "      <td>110.000000</td>\n",
       "    </tr>\n",
       "    <tr>\n",
       "      <th>std</th>\n",
       "      <td>5.942488</td>\n",
       "      <td>0.527046</td>\n",
       "      <td>4.806246</td>\n",
       "      <td>66.507617</td>\n",
       "    </tr>\n",
       "    <tr>\n",
       "      <th>min</th>\n",
       "      <td>1.000000</td>\n",
       "      <td>1.000000</td>\n",
       "      <td>2.000000</td>\n",
       "      <td>41.000000</td>\n",
       "    </tr>\n",
       "    <tr>\n",
       "      <th>25%</th>\n",
       "      <td>5.750000</td>\n",
       "      <td>1.000000</td>\n",
       "      <td>3.250000</td>\n",
       "      <td>59.000000</td>\n",
       "    </tr>\n",
       "    <tr>\n",
       "      <th>50%</th>\n",
       "      <td>10.500000</td>\n",
       "      <td>2.000000</td>\n",
       "      <td>8.500000</td>\n",
       "      <td>87.000000</td>\n",
       "    </tr>\n",
       "    <tr>\n",
       "      <th>75%</th>\n",
       "      <td>15.250000</td>\n",
       "      <td>2.000000</td>\n",
       "      <td>10.000000</td>\n",
       "      <td>134.500000</td>\n",
       "    </tr>\n",
       "    <tr>\n",
       "      <th>max</th>\n",
       "      <td>20.000000</td>\n",
       "      <td>2.000000</td>\n",
       "      <td>14.000000</td>\n",
       "      <td>325.000000</td>\n",
       "    </tr>\n",
       "  </tbody>\n",
       "</table>\n",
       "</div>"
      ],
      "text/plain": [
       "            Rank      Peak  All Time Peak       Shows\n",
       "count  20.000000  9.000000       6.000000   20.000000\n",
       "mean   10.450000  1.555556       7.500000  110.000000\n",
       "std     5.942488  0.527046       4.806246   66.507617\n",
       "min     1.000000  1.000000       2.000000   41.000000\n",
       "25%     5.750000  1.000000       3.250000   59.000000\n",
       "50%    10.500000  2.000000       8.500000   87.000000\n",
       "75%    15.250000  2.000000      10.000000  134.500000\n",
       "max    20.000000  2.000000      14.000000  325.000000"
      ]
     },
     "execution_count": 64,
     "metadata": {},
     "output_type": "execute_result"
    }
   ],
   "source": [
    "df.describe()"
   ]
  },
  {
   "cell_type": "code",
   "execution_count": null,
   "id": "517a5c82",
   "metadata": {},
   "outputs": [
    {
     "data": {
      "text/plain": [
       "['Rank',\n",
       " 'Peak',\n",
       " 'All Time Peak',\n",
       " 'Actual\\xa0gross',\n",
       " 'Adjusted\\xa0gross (in 2022 dollars)',\n",
       " 'Artist',\n",
       " 'Tour title',\n",
       " 'Year(s)',\n",
       " 'Shows',\n",
       " 'Average gross']"
      ]
     },
     "execution_count": 65,
     "metadata": {},
     "output_type": "execute_result"
    }
   ],
   "source": [
    "# Get a list of all column names in the DataFrame for inspection or debugging\n",
    "df.columns.tolist()"
   ]
  },
  {
   "cell_type": "code",
   "execution_count": null,
   "id": "f36879cb",
   "metadata": {},
   "outputs": [
    {
     "data": {
      "text/plain": [
       "['rank',\n",
       " 'peak',\n",
       " 'all_time_peak',\n",
       " 'actual_gross',\n",
       " 'adjusted_gross_in_2022_dollars',\n",
       " 'artist',\n",
       " 'tour_title',\n",
       " 'years',\n",
       " 'shows',\n",
       " 'average_gross']"
      ]
     },
     "execution_count": 66,
     "metadata": {},
     "output_type": "execute_result"
    }
   ],
   "source": [
    "# correcting column names\n",
    "df.columns = (\n",
    "    df.columns\n",
    "    .str.replace(r'[^\\w\\s]', '', regex=True)    # Remove special characters\n",
    "    .str.replace('\\xa0', ' ')                   # Replace non-breaking spaces\n",
    "    .str.strip()                                # Remove leading/trailing whitespace\n",
    "    .str.lower()                                # Convert to lowercase\n",
    "    .str.replace(' ', '_')                      # Replace spaces with underscores\n",
    ")\n",
    "\n",
    "df.columns.tolist()"
   ]
  },
  {
   "cell_type": "code",
   "execution_count": null,
   "id": "98653d13",
   "metadata": {},
   "outputs": [],
   "source": [
    "money_cols = ['actual_gross', 'adjusted_gross_in_2022_dollars', 'average_gross']\n",
    "for col in money_cols:\n",
    "    # Remove $ and commas, handle non-breaking spaces, convert to float\n",
    "    df[col] = (df[col].astype(str)\n",
    "               .str.replace(r'[^\\d.]', '', regex=True)  # Keep only digits and decimal points\n",
    "               .replace('', np.nan)                     # Handle empty strings\n",
    "               .astype(float))                          # convert to float"
   ]
  },
  {
   "cell_type": "code",
   "execution_count": null,
   "id": "bfdaa8de",
   "metadata": {},
   "outputs": [],
   "source": [
    "# removing useless symbols from tour title \n",
    "df['tour_title'] = df['tour_title'].str.replace(r'[†‡\\[a-d\\]]', '', regex=True).str.strip()"
   ]
  },
  {
   "cell_type": "code",
   "execution_count": null,
   "id": "9f57a968",
   "metadata": {},
   "outputs": [
    {
     "data": {
      "text/html": [
       "<div>\n",
       "<style scoped>\n",
       "    .dataframe tbody tr th:only-of-type {\n",
       "        vertical-align: middle;\n",
       "    }\n",
       "\n",
       "    .dataframe tbody tr th {\n",
       "        vertical-align: top;\n",
       "    }\n",
       "\n",
       "    .dataframe thead th {\n",
       "        text-align: right;\n",
       "    }\n",
       "</style>\n",
       "<table border=\"1\" class=\"dataframe\">\n",
       "  <thead>\n",
       "    <tr style=\"text-align: right;\">\n",
       "      <th></th>\n",
       "      <th>rank</th>\n",
       "      <th>peak</th>\n",
       "      <th>all_time_peak</th>\n",
       "      <th>actual_gross</th>\n",
       "      <th>adjusted_gross_in_2022_dollars</th>\n",
       "      <th>artist</th>\n",
       "      <th>tour_title</th>\n",
       "      <th>years</th>\n",
       "      <th>shows</th>\n",
       "      <th>average_gross</th>\n",
       "      <th>shamsi_year</th>\n",
       "    </tr>\n",
       "  </thead>\n",
       "  <tbody>\n",
       "    <tr>\n",
       "      <th>0</th>\n",
       "      <td>1</td>\n",
       "      <td>1.0</td>\n",
       "      <td>2.0</td>\n",
       "      <td>7.800000e+08</td>\n",
       "      <td>780000000.0</td>\n",
       "      <td>Taylor Swift</td>\n",
       "      <td>The Ers Tour</td>\n",
       "      <td>2023</td>\n",
       "      <td>56</td>\n",
       "      <td>13928571.0</td>\n",
       "      <td>1401</td>\n",
       "    </tr>\n",
       "    <tr>\n",
       "      <th>1</th>\n",
       "      <td>2</td>\n",
       "      <td>1.0</td>\n",
       "      <td>7.0</td>\n",
       "      <td>5.798000e+08</td>\n",
       "      <td>579800000.0</td>\n",
       "      <td>NaN</td>\n",
       "      <td>Renissne Worl Tour</td>\n",
       "      <td>2023</td>\n",
       "      <td>56</td>\n",
       "      <td>10353571.0</td>\n",
       "      <td>1401</td>\n",
       "    </tr>\n",
       "    <tr>\n",
       "      <th>2</th>\n",
       "      <td>3</td>\n",
       "      <td>1.0</td>\n",
       "      <td>2.0</td>\n",
       "      <td>4.110000e+08</td>\n",
       "      <td>560622615.0</td>\n",
       "      <td>Madonna</td>\n",
       "      <td>Stiky &amp; Sweet Tour 4</td>\n",
       "      <td>2008</td>\n",
       "      <td>85</td>\n",
       "      <td>4835294.0</td>\n",
       "      <td>1386</td>\n",
       "    </tr>\n",
       "    <tr>\n",
       "      <th>3</th>\n",
       "      <td>4</td>\n",
       "      <td>2.0</td>\n",
       "      <td>10.0</td>\n",
       "      <td>3.973000e+08</td>\n",
       "      <td>454751555.0</td>\n",
       "      <td>Pink</td>\n",
       "      <td>Beutiful Trum Worl Tour</td>\n",
       "      <td>2018</td>\n",
       "      <td>156</td>\n",
       "      <td>2546795.0</td>\n",
       "      <td>1396</td>\n",
       "    </tr>\n",
       "    <tr>\n",
       "      <th>4</th>\n",
       "      <td>5</td>\n",
       "      <td>2.0</td>\n",
       "      <td>NaN</td>\n",
       "      <td>3.456751e+09</td>\n",
       "      <td>402844849.0</td>\n",
       "      <td>Taylor Swift</td>\n",
       "      <td>Reputtion Stium Tour</td>\n",
       "      <td>2018</td>\n",
       "      <td>53</td>\n",
       "      <td>NaN</td>\n",
       "      <td>1396</td>\n",
       "    </tr>\n",
       "  </tbody>\n",
       "</table>\n",
       "</div>"
      ],
      "text/plain": [
       "   rank  peak  all_time_peak  actual_gross  adjusted_gross_in_2022_dollars  \\\n",
       "0     1   1.0            2.0  7.800000e+08                     780000000.0   \n",
       "1     2   1.0            7.0  5.798000e+08                     579800000.0   \n",
       "2     3   1.0            2.0  4.110000e+08                     560622615.0   \n",
       "3     4   2.0           10.0  3.973000e+08                     454751555.0   \n",
       "4     5   2.0            NaN  3.456751e+09                     402844849.0   \n",
       "\n",
       "         artist               tour_title  years  shows  average_gross  \\\n",
       "0  Taylor Swift             The Ers Tour   2023     56     13928571.0   \n",
       "1           NaN       Renissne Worl Tour   2023     56     10353571.0   \n",
       "2       Madonna     Stiky & Sweet Tour 4   2008     85      4835294.0   \n",
       "3          Pink  Beutiful Trum Worl Tour   2018    156      2546795.0   \n",
       "4  Taylor Swift     Reputtion Stium Tour   2018     53            NaN   \n",
       "\n",
       "   shamsi_year  \n",
       "0         1401  \n",
       "1         1401  \n",
       "2         1386  \n",
       "3         1396  \n",
       "4         1396  "
      ]
     },
     "execution_count": 69,
     "metadata": {},
     "output_type": "execute_result"
    }
   ],
   "source": [
    "# Extract just the start year and overwrite the original column\n",
    "df['years'] = df['years'].str.split('–').str[0].astype('Int64')\n",
    "\n",
    "# convert years into shamsi years and storing them in a new column\n",
    "def date_convertion(year):\n",
    "    return jdatetime.GregorianToJalali(int(year), 1, 1).jyear\n",
    "\n",
    "df['shamsi_year'] = df['years'].apply(date_convertion)\n",
    "\n",
    "\n",
    "df.head()"
   ]
  },
  {
   "cell_type": "code",
   "execution_count": null,
   "id": "11076a91",
   "metadata": {},
   "outputs": [],
   "source": [
    "# handling categorical missing values\n",
    "# 1- filling them with unknown:\n",
    "\n",
    "df['artist'] = df['artist'].fillna('Unknown')\n",
    "df['tour_title'] = df['tour_title'].fillna('Unknown')\n",
    "\n",
    "# 2- or just drop it\n",
    "# df.dropna(subset=['Artist', 'Tour title'])\n",
    "\n",
    "\n",
    "# -------------------------------------------------\n",
    "\n",
    "\n",
    "# handling numerical missing values\n",
    "# filling null values with 0\n",
    "df['peak'] = df['peak'].fillna(0)\n",
    "df['all_time_peak'] = df['all_time_peak'].fillna(0)\n",
    "\n",
    "\n",
    "# calculating gross per show and storing them in a new column\n",
    "df['gross_per_show'] = df['actual_gross'] / df['shows']\n",
    "df['average_gross'] = df['average_gross'].fillna(df['gross_per_show'])"
   ]
  },
  {
   "cell_type": "code",
   "execution_count": null,
   "id": "ed431e2e",
   "metadata": {},
   "outputs": [
    {
     "data": {
      "text/plain": [
       "rank                              0\n",
       "peak                              0\n",
       "all_time_peak                     0\n",
       "actual_gross                      0\n",
       "adjusted_gross_in_2022_dollars    0\n",
       "artist                            0\n",
       "tour_title                        0\n",
       "years                             0\n",
       "shows                             0\n",
       "average_gross                     0\n",
       "shamsi_year                       0\n",
       "gross_per_show                    0\n",
       "dtype: int64"
      ]
     },
     "execution_count": 71,
     "metadata": {},
     "output_type": "execute_result"
    }
   ],
   "source": [
    "df.isna().sum()"
   ]
  },
  {
   "cell_type": "code",
   "execution_count": null,
   "id": "d75d62d0",
   "metadata": {},
   "outputs": [
    {
     "name": "stdout",
     "output_type": "stream",
     "text": [
      "\n",
      "Duplicate rows:\n"
     ]
    },
    {
     "data": {
      "text/plain": [
       "0"
      ]
     },
     "execution_count": 72,
     "metadata": {},
     "output_type": "execute_result"
    }
   ],
   "source": [
    "# Nice :D\n",
    "print(\"\\nDuplicate rows:\")\n",
    "df.duplicated().sum()\n",
    "\n",
    "# if there were duplicated rows we could drop them:\n",
    "# df = df.drop_duplicates()"
   ]
  },
  {
   "cell_type": "code",
   "execution_count": null,
   "id": "f3b7da0a",
   "metadata": {},
   "outputs": [
    {
     "name": "stdout",
     "output_type": "stream",
     "text": [
      "<class 'pandas.core.frame.DataFrame'>\n",
      "Index: 18 entries, 0 to 19\n",
      "Data columns (total 12 columns):\n",
      " #   Column                          Non-Null Count  Dtype  \n",
      "---  ------                          --------------  -----  \n",
      " 0   rank                            18 non-null     int64  \n",
      " 1   peak                            18 non-null     float64\n",
      " 2   all_time_peak                   18 non-null     float64\n",
      " 3   actual_gross                    18 non-null     float64\n",
      " 4   adjusted_gross_in_2022_dollars  18 non-null     float64\n",
      " 5   artist                          18 non-null     object \n",
      " 6   tour_title                      18 non-null     object \n",
      " 7   years                           18 non-null     Int64  \n",
      " 8   shows                           18 non-null     int64  \n",
      " 9   average_gross                   18 non-null     float64\n",
      " 10  shamsi_year                     18 non-null     int64  \n",
      " 11  gross_per_show                  18 non-null     float64\n",
      "dtypes: Int64(1), float64(6), int64(3), object(2)\n",
      "memory usage: 1.8+ KB\n"
     ]
    }
   ],
   "source": [
    "# keep rows where actual gross is between 150M and 800M\n",
    "df = df[(df['actual_gross'] >= 150000000) & (df['actual_gross'] <= 800000000)]\n",
    "df.info()"
   ]
  },
  {
   "cell_type": "code",
   "execution_count": null,
   "id": "4be4f1fe",
   "metadata": {},
   "outputs": [
    {
     "data": {
      "image/png": "[encoded data removed]",
      "text/plain": [
       "<Figure size 1500x600 with 2 Axes>"
      ]
     },
     "metadata": {},
     "output_type": "display_data"
    }
   ],
   "source": [
    "artist_gross = df.groupby('artist')['actual_gross'].sum().sort_values(ascending=False)\n",
    "avg_shows = df.groupby('artist')['shows'].mean()\n",
    "\n",
    "fig, (ax1, ax2) = plt.subplots(1, 2, figsize=(15, 6))\n",
    "plt.subplots_adjust(wspace=0.4)  # Adjust space between plots\n",
    "\n",
    "# Plot 1: Total Gross Revenue\n",
    "artist_gross.plot(kind='bar', ax=ax1, color='#1f77b4')\n",
    "ax1.set_title('Total Gross Revenue', pad=20)\n",
    "ax1.set_ylabel('USD ($)')\n",
    "ax1.yaxis.set_major_formatter('${x:,.0f}')  # Proper currency format\n",
    "ax1.tick_params(axis='x', rotation=45, labelsize=9)\n",
    "\n",
    "# Plot 2: Average Shows\n",
    "avg_shows.plot(kind='bar', ax=ax2, color='#ff7f0e')\n",
    "ax2.set_title('Average Number of Shows', pad=20)\n",
    "ax2.set_ylabel('Shows')\n",
    "ax2.tick_params(axis='x', rotation=45, labelsize=9)\n",
    "\n",
    "plt.show()"
   ]
  },
  {
   "cell_type": "code",
   "execution_count": null,
   "id": "71871b17",
   "metadata": {},
   "outputs": [
    {
     "name": "stdout",
     "output_type": "stream",
     "text": [
      "Highest grossing artist: Taylor Swift\n",
      "Tour: The 1989 Worl Tour\n",
      "Revenue: $250,400,000\n",
      "Shows: 85\n",
      "----------------------------------------------------------\n",
      "\n",
      "Best performing tour: Beutiful Trum Worl Tour\n",
      "Artist: Pink\n",
      "Gross per show: $2,546,795\n",
      "Total shows: 156\n"
     ]
    }
   ],
   "source": [
    "# filtering by year and shows\n",
    "filtered = df[\n",
    "    (df['shows'].between(50, 100)) & \n",
    "    (df['years'].between(2015, 2020))\n",
    "]\n",
    "\n",
    "# Get top artist by 'actual gross'\n",
    "top_artist = filtered.loc[filtered['actual_gross'].idxmax(), ['artist', 'tour_title', 'actual_gross', 'shows']]\n",
    "\n",
    "print(f\"Highest grossing artist: {top_artist['artist']}\")\n",
    "print(f\"Tour: {top_artist['tour_title']}\")\n",
    "print(f\"Revenue: ${top_artist['actual_gross']:,.0f}\")\n",
    "print(f\"Shows: {top_artist['shows']}\")\n",
    "\n",
    "\n",
    "print(\"----------------------------------------------------------\")\n",
    "\n",
    "\n",
    "# Calculate average show count\n",
    "avg_shows = df['shows'].mean()\n",
    "\n",
    "# Filter tours with above-average shows\n",
    "high_volume_tours = df[df['shows'] > avg_shows]\n",
    "\n",
    "# Find top by gross per show\n",
    "top_tour = high_volume_tours.loc[high_volume_tours['gross_per_show'].idxmax(), \n",
    "                                ['artist', 'tour_title', 'gross_per_show', 'shows']]\n",
    "\n",
    "print(f\"\\nBest performing tour: {top_tour['tour_title']}\")\n",
    "print(f\"Artist: {top_tour['artist']}\")\n",
    "print(f\"Gross per show: ${top_tour['gross_per_show']:,.0f}\")\n",
    "print(f\"Total shows: {top_tour['shows']}\")"
   ]
  },
  {
   "cell_type": "code",
   "execution_count": null,
   "id": "1cd7e4e3",
   "metadata": {},
   "outputs": [],
   "source": [
    "# saving cleaned data\n",
    "df.to_csv('Cleaned_Concert_Tours.csv', index=False)"
   ]
  }
 ],
 "metadata": {
  "kernelspec": {
   "display_name": "tf.env (3.11.13)",
   "language": "python",
   "name": "python3"
  },
  "language_info": {
   "codemirror_mode": {
    "name": "ipython",
    "version": 3
   },
   "file_extension": ".py",
   "mimetype": "text/x-python",
   "name": "python",
   "nbconvert_exporter": "python",
   "pygments_lexer": "ipython3",
   "version": "3.11.13"
  }
 },
 "nbformat": 4,
 "nbformat_minor": 5
}
